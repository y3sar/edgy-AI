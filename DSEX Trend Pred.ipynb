{
 "cells": [
  {
   "cell_type": "code",
   "execution_count": 41,
   "metadata": {},
   "outputs": [],
   "source": [
    "import torch\n",
    "import pandas as pd\n",
    "import datetime\n",
    "import matplotlib.pyplot as plt"
   ]
  },
  {
   "cell_type": "code",
   "execution_count": 231,
   "metadata": {},
   "outputs": [
    {
     "name": "stdout",
     "output_type": "stream",
     "text": [
      "0    3\n",
      "Name: Date, dtype: int64\n"
     ]
    }
   ],
   "source": [
    "raw_data = pd.read_csv(\"dsex-val2.csv\")\n",
    "raw_data[\"Date\"] = pd.to_datetime(raw_data[\"Date\"], dayfirst=True)\n",
    "raw_data.head()\n",
    "\n",
    "output = pd.DataFrame()\n",
    "\n",
    "current_month = 0\n",
    "\n",
    "\n",
    "for row_idx in range(1, len(raw_data)):\n",
    "    current_row = raw_data.iloc[:row_idx,: ]\n",
    "    i = 0\n",
    "    if current_row[\"Date\"].dt.month != current_month:\n",
    "        current_month = current_row[\"Date\"].dt.month\n",
    "        \n",
    "    break;\n",
    "        "
   ]
  },
  {
   "cell_type": "code",
   "execution_count": null,
   "metadata": {},
   "outputs": [],
   "source": []
  },
  {
   "cell_type": "code",
   "execution_count": 175,
   "metadata": {},
   "outputs": [
    {
     "name": "stdout",
     "output_type": "stream",
     "text": [
      "(tensor([[1.5480, 1.0737],\n",
      "        [0.5071, 1.0942],\n",
      "        [1.0091, 1.0626],\n",
      "        [0.4619, 0.9547],\n",
      "        [0.6828, 0.9111]], dtype=torch.float64), tensor([[0.9429],\n",
      "        [0.8147],\n",
      "        [0.7800],\n",
      "        [0.7983],\n",
      "        [0.7499]], dtype=torch.float64), array([[0., 1., 0., 0., 0., 0., 0., 0., 0., 0., 1., 0., 0., 0., 0., 0.,\n",
      "        0., 0., 0., 0.],\n",
      "       [1., 0., 0., 0., 0., 0., 0., 0., 0., 0., 1., 0., 0., 0., 0., 0.,\n",
      "        0., 0., 0., 0.],\n",
      "       [0., 0., 0., 0., 0., 0., 1., 0., 0., 1., 0., 0., 0., 0., 0., 0.,\n",
      "        0., 0., 0., 0.],\n",
      "       [0., 0., 0., 1., 0., 0., 0., 0., 0., 1., 0., 0., 0., 0., 0., 0.,\n",
      "        0., 0., 0., 0.],\n",
      "       [0., 0., 1., 0., 0., 0., 0., 0., 0., 1., 0., 0., 0., 0., 0., 0.,\n",
      "        0., 0., 0., 0.]]))\n"
     ]
    }
   ],
   "source": [
    "from torch.utils.data import Dataset, DataLoader\n",
    "import numpy as np\n",
    "class DSEX_Dataset(Dataset):\n",
    "    def __init__(self, csv_file_name, day_window, transform=None):\n",
    "        self.raw_data = pd.read_csv(csv_file_name)\n",
    "        self.raw_data[\"Date\"] = pd.to_datetime(self.raw_data[\"Date\"], dayfirst=True)\n",
    "        self.raw_data_tensor = torch.tensor(self.raw_data.iloc[:, 1:].values)\n",
    "        \n",
    "        data_mean = torch.mean(self.raw_data_tensor, dim=0)\n",
    "        data_std = torch.std(self.raw_data_tensor, dim=0)\n",
    "        \n",
    "        self.raw_data_tensor = (self.raw_data_tensor - data_mean) / data_std\n",
    "        \n",
    "        self.dates = self.raw_data.iloc[:, 0]\n",
    "        self.transform = transform;\n",
    "        self.day_window = day_window;\n",
    "        self.date_data = self.date_to_onehot(self.dates)\n",
    "    \n",
    "    def __len__(self):\n",
    "        return len(self.raw_data) - self.day_window*2;\n",
    "    \n",
    "    def __getitem__(self, idx):\n",
    "        start = idx;\n",
    "        end = idx+self.day_window\n",
    "        x = self.raw_data_tensor[start:end, :] \n",
    "        y = self.raw_data_tensor[end:(end + self.day_window), 1].unsqueeze(1)\n",
    "        y_date = self.date_data[end:(end + self.day_window), :]\n",
    "        \n",
    "        return (x,y,y_date)\n",
    "    \n",
    "    def date_to_onehot(self, dates):\n",
    "        one_hot = np.zeros((len(dates), 20)) # 12 for months and 7 for days\n",
    "#         one_hot[:, dates.dt.day]\n",
    "        \n",
    "        one_hot[np.arange(len(dates)), dates.dt.dayofweek.values] = 1\n",
    "        one_hot[:, 7:][np.arange(len(dates)), dates.dt.month] = 1\n",
    "        return one_hot\n",
    "        \n",
    "         \n",
    "    \n",
    "dsex_dataset = DSEX_Dataset(\"dsex-val2.csv\", 5, transform=None);\n",
    "    \n",
    "dsex_loader = DataLoader(dsex_dataset, batch_size=len(dsex_dataset), shuffle=False)\n",
    "print(dsex_dataset[0])\n"
   ]
  },
  {
   "cell_type": "code",
   "execution_count": 55,
   "metadata": {},
   "outputs": [
    {
     "ename": "RuntimeError",
     "evalue": "Sizes of tensors must match except in dimension 0. Got 5 and 1 in dimension 1 (The offending index is 1)",
     "output_type": "error",
     "traceback": [
      "\u001b[1;31m---------------------------------------------------------------------------\u001b[0m",
      "\u001b[1;31mRuntimeError\u001b[0m                              Traceback (most recent call last)",
      "\u001b[1;32m<ipython-input-55-962cd64ff70e>\u001b[0m in \u001b[0;36m<module>\u001b[1;34m\u001b[0m\n\u001b[0;32m     15\u001b[0m \u001b[1;32mfor\u001b[0m \u001b[0mi\u001b[0m \u001b[1;32min\u001b[0m \u001b[0mrange\u001b[0m\u001b[1;33m(\u001b[0m\u001b[1;36m5\u001b[0m\u001b[1;33m)\u001b[0m\u001b[1;33m:\u001b[0m\u001b[1;33m\u001b[0m\u001b[1;33m\u001b[0m\u001b[0m\n\u001b[0;32m     16\u001b[0m     \u001b[0moutput\u001b[0m\u001b[1;33m,\u001b[0m \u001b[1;33m(\u001b[0m\u001b[0mh1\u001b[0m\u001b[1;33m,\u001b[0m \u001b[0mc1\u001b[0m\u001b[1;33m)\u001b[0m \u001b[1;33m=\u001b[0m \u001b[0mlstm\u001b[0m\u001b[1;33m(\u001b[0m\u001b[0minputs\u001b[0m\u001b[1;33m,\u001b[0m \u001b[1;33m(\u001b[0m\u001b[0mh1\u001b[0m\u001b[1;33m,\u001b[0m \u001b[0mc1\u001b[0m\u001b[1;33m)\u001b[0m\u001b[1;33m)\u001b[0m\u001b[1;33m\u001b[0m\u001b[1;33m\u001b[0m\u001b[0m\n\u001b[1;32m---> 17\u001b[1;33m     \u001b[0mtorch\u001b[0m\u001b[1;33m.\u001b[0m\u001b[0mcat\u001b[0m\u001b[1;33m(\u001b[0m\u001b[1;33m(\u001b[0m\u001b[0mseq_output\u001b[0m\u001b[1;33m,\u001b[0m \u001b[0moutput\u001b[0m\u001b[1;33m)\u001b[0m\u001b[1;33m,\u001b[0m \u001b[0mdim\u001b[0m\u001b[1;33m=\u001b[0m\u001b[1;36m0\u001b[0m\u001b[1;33m)\u001b[0m\u001b[1;33m\u001b[0m\u001b[1;33m\u001b[0m\u001b[0m\n\u001b[0m\u001b[0;32m     18\u001b[0m \u001b[1;33m\u001b[0m\u001b[0m\n\u001b[0;32m     19\u001b[0m \u001b[0mprint\u001b[0m\u001b[1;33m(\u001b[0m\u001b[0moutput\u001b[0m\u001b[1;33m.\u001b[0m\u001b[0mshape\u001b[0m\u001b[1;33m)\u001b[0m\u001b[1;33m\u001b[0m\u001b[1;33m\u001b[0m\u001b[0m\n",
      "\u001b[1;31mRuntimeError\u001b[0m: Sizes of tensors must match except in dimension 0. Got 5 and 1 in dimension 1 (The offending index is 1)"
     ]
    }
   ],
   "source": [
    "input_features = 2; # [ADTV, DSEX]\n",
    "seq_len = 5; # stock market open week\n",
    "batch_size = 50;\n",
    "hidden_size = 256;\n",
    "num_layers = 1;\n",
    "\n",
    "inputs = torch.randn(batch_size, 1, input_features)\n",
    "h1 = torch.randn(num_layers, batch_size, hidden_size)\n",
    "c1 = torch.randn(num_layers, batch_size, hidden_size)\n",
    "\n",
    "lstm = nn.LSTM(input_features, hidden_size, num_layers=num_layers, bias=True, batch_first=True)\n",
    "\n",
    "\n",
    "seq_output = torch.empty(50, 5, input_features)\n",
    "for i in range(5):\n",
    "    output, (h1, c1) = lstm(inputs, (h1, c1))\n",
    "    torch.cat((seq_output, output), dim=0)\n",
    "\n",
    "print(output.shape)\n",
    "print(h1.shape)\n",
    "\n"
   ]
  },
  {
   "cell_type": "code",
   "execution_count": 203,
   "metadata": {},
   "outputs": [],
   "source": [
    "# 5 12 [0 0 0 1 0 0, 0 0 0 0 0 0 0 ]\n",
    "\n",
    "\"\"\"\n",
    "    EdgyEncoder\n",
    "    Input size: [ADTV, DSEX]\n",
    "    Seq Len = day window\n",
    "    hidden_size: 256\n",
    "    num_layers: 124\n",
    "    output_size: 128\n",
    "    \n",
    "    EdgyDecoder\n",
    "    Input size: 128 (EdgyEncoder Output)\n",
    "    Seq Len = day window\n",
    "    hidden_size: 256\n",
    "    num_layers: 124\n",
    "    output_size: 1 (index of the next day)\n",
    "    \n",
    "\n",
    "\"\"\"\n",
    "import torch.nn as nn\n",
    "\n",
    "\n",
    "class EdgyEncoder(nn.Module):\n",
    "    def __init__(self, input_features, hidden_size, num_layers):\n",
    "        super().__init__();\n",
    "        self.input_features = input_features \n",
    "        self.hidden_size = hidden_size;\n",
    "        self.num_layers = num_layers;\n",
    "        self.encoder = nn.LSTM(input_features, hidden_size, num_layers, bias=True, batch_first=True);\n",
    "        \n",
    "    def forward(self, x, hidden):\n",
    "        x, hidden = self.encoder(x, hidden);\n",
    "        return x, hidden;\n",
    "    \n",
    "class EdgyDecoder(nn.Module):\n",
    "    def __init__(self, input_features, hidden_size, num_layers):\n",
    "        super().__init__();\n",
    "        self.input_features = input_features \n",
    "        self.hidden_size = hidden_size;\n",
    "        self.num_layers = num_layers;\n",
    "        self.decoder = nn.LSTM(input_features, hidden_size, num_layers, bias=True, batch_first=True);\n",
    "        \n",
    "        \n",
    "    def forward(self, x, hidden):\n",
    "        x, hidden = self.decoder(x, hidden);\n",
    "        return x, hidden;\n",
    "    \n",
    "class FCNet(nn.Module):\n",
    "    def __init__(self, input_features, output_features):\n",
    "        super().__init__();\n",
    "        self.fc1 = nn.Linear(input_features, 50)\n",
    "        self.fc2 = nn.Linear(50, 50)\n",
    "        self.fc3 = nn.Linear(50, output_features)\n",
    "        self.relu = nn.ReLU();\n",
    "        self.sigmoid = nn.Sigmoid()\n",
    "    def forward(self, x):\n",
    "        x = self.relu(self.fc1(x))\n",
    "        x = self.relu(self.fc2(x))\n",
    "        x = self.relu(self.fc3(x))\n",
    "        return x;\n",
    "    \n",
    "class Edgy(nn.Module):\n",
    "    def __init__(self, enc_input_features, dec_input_features, dec_hidden_size, fc_output_features, num_layers=1):\n",
    "        super().__init__();\n",
    "        self.enc_input_features = enc_input_features;\n",
    "        self.dec_input_features = dec_input_features;\n",
    "        self.dec_hidden_size = dec_hidden_size;\n",
    "        self.fc_output_features = fc_output_features;\n",
    "        self.num_layers = num_layers;\n",
    "        self.edgy_encoder = EdgyEncoder(enc_input_features, dec_input_features, num_layers=num_layers)\n",
    "        self.edgy_decoder = EdgyDecoder(dec_input_features, dec_hidden_size, num_layers=num_layers)\n",
    "        self.fcnet = FCNet(dec_hidden_size, fc_output_features)\n",
    "\n",
    "    \n",
    "    def forward(self, x):\n",
    "        h1 = torch.randn(self.num_layers, x.shape[0], self.dec_input_features)\n",
    "        c1 = torch.randn(self.num_layers, x.shape[0], self.dec_input_features)\n",
    "        \n",
    "        enc_output, (h1, c1) = self.edgy_encoder(x.float(), (h1, c1))\n",
    "        dec_output, (h1, c1) = self.edgy_decoder(enc_output, (h1, c1))\n",
    "        \n",
    "        #fcinput = torch.cat((dec_output, fc_y_date), dim=2)\n",
    "        pred = self.fcnet(dec_output.float())\n",
    "        \n",
    "        return pred\n",
    "        \n",
    "        \n",
    "    "
   ]
  },
  {
   "cell_type": "code",
   "execution_count": 210,
   "metadata": {},
   "outputs": [
    {
     "name": "stderr",
     "output_type": "stream",
     "text": [
      "\r",
      "current-loss:   0%|                                                                             | 0/50 [00:00<?, ?it/s]"
     ]
    },
    {
     "name": "stdout",
     "output_type": "stream",
     "text": [
      "prediction: \n",
      "\n",
      "[[0.14642957]\n",
      " [0.14679559]\n",
      " [0.14717653]\n",
      " [0.14737763]\n",
      " [0.14737755]]\n",
      "target: \n",
      "\n",
      "[[0.94291067]\n",
      " [0.81470634]\n",
      " [0.78004082]\n",
      " [0.79828618]\n",
      " [0.74989137]]\n",
      "0.867754226771541\n"
     ]
    },
    {
     "name": "stderr",
     "output_type": "stream",
     "text": [
      "current-loss: 0.933207:   2%|█▏                                                         | 1/50 [00:03<03:00,  3.68s/it]"
     ]
    },
    {
     "name": "stdout",
     "output_type": "stream",
     "text": [
      "prediction: \n",
      "\n",
      "[[0.]\n",
      " [0.]\n",
      " [0.]\n",
      " [0.]\n",
      " [0.]]\n",
      "target: \n",
      "\n",
      "[[0.94291067]\n",
      " [0.81470634]\n",
      " [0.78004082]\n",
      " [0.79828618]\n",
      " [0.74989137]]\n",
      "1.1513539934194612\n"
     ]
    },
    {
     "name": "stderr",
     "output_type": "stream",
     "text": [
      "current-loss: 1.000789:   4%|██▎                                                        | 2/50 [00:07<02:55,  3.65s/it]"
     ]
    },
    {
     "name": "stdout",
     "output_type": "stream",
     "text": [
      "prediction: \n",
      "\n",
      "[[0.]\n",
      " [0.]\n",
      " [0.]\n",
      " [0.]\n",
      " [0.]]\n",
      "target: \n",
      "\n",
      "[[0.94291067]\n",
      " [0.81470634]\n",
      " [0.78004082]\n",
      " [0.79828618]\n",
      " [0.74989137]]\n",
      "1.152522554279337\n"
     ]
    },
    {
     "name": "stderr",
     "output_type": "stream",
     "text": [
      "current-loss: 1.000912:   6%|███▌                                                       | 3/50 [00:10<02:50,  3.62s/it]"
     ]
    },
    {
     "name": "stdout",
     "output_type": "stream",
     "text": [
      "prediction: \n",
      "\n",
      "[[0.]\n",
      " [0.]\n",
      " [0.]\n",
      " [0.]\n",
      " [0.]]\n",
      "target: \n",
      "\n",
      "[[0.94291067]\n",
      " [0.81470634]\n",
      " [0.78004082]\n",
      " [0.79828618]\n",
      " [0.74989137]]\n",
      "1.152522554279337\n"
     ]
    },
    {
     "name": "stderr",
     "output_type": "stream",
     "text": [
      "current-loss: 1.000757:   8%|████▋                                                      | 4/50 [00:14<02:45,  3.61s/it]"
     ]
    },
    {
     "name": "stdout",
     "output_type": "stream",
     "text": [
      "prediction: \n",
      "\n",
      "[[0.]\n",
      " [0.]\n",
      " [0.]\n",
      " [0.]\n",
      " [0.]]\n",
      "target: \n",
      "\n",
      "[[0.94291067]\n",
      " [0.81470634]\n",
      " [0.78004082]\n",
      " [0.79828618]\n",
      " [0.74989137]]\n",
      "1.152522554279337\n"
     ]
    },
    {
     "name": "stderr",
     "output_type": "stream",
     "text": [
      "current-loss: 1.000837:  10%|█████▉                                                     | 5/50 [00:17<02:39,  3.55s/it]"
     ]
    },
    {
     "name": "stdout",
     "output_type": "stream",
     "text": [
      "prediction: \n",
      "\n",
      "[[0.]\n",
      " [0.]\n",
      " [0.]\n",
      " [0.]\n",
      " [0.]]\n",
      "target: \n",
      "\n",
      "[[0.94291067]\n",
      " [0.81470634]\n",
      " [0.78004082]\n",
      " [0.79828618]\n",
      " [0.74989137]]\n",
      "1.152522554279337\n"
     ]
    },
    {
     "name": "stderr",
     "output_type": "stream",
     "text": [
      "current-loss: 1.000837:  12%|███████                                                    | 6/50 [00:21<02:33,  3.48s/it]"
     ]
    },
    {
     "name": "stdout",
     "output_type": "stream",
     "text": [
      "prediction: \n",
      "\n",
      "[[0.]\n",
      " [0.]\n",
      " [0.]\n",
      " [0.]\n",
      " [0.]]\n",
      "target: \n",
      "\n",
      "[[0.94291067]\n",
      " [0.81470634]\n",
      " [0.78004082]\n",
      " [0.79828618]\n",
      " [0.74989137]]\n",
      "1.152522554279337\n"
     ]
    },
    {
     "name": "stderr",
     "output_type": "stream",
     "text": [
      "current-loss: 1.000843:  14%|████████▎                                                  | 7/50 [00:24<02:28,  3.45s/it]"
     ]
    },
    {
     "name": "stdout",
     "output_type": "stream",
     "text": [
      "prediction: \n",
      "\n",
      "[[0.]\n",
      " [0.]\n",
      " [0.]\n",
      " [0.]\n",
      " [0.]]\n",
      "target: \n",
      "\n",
      "[[0.94291067]\n",
      " [0.81470634]\n",
      " [0.78004082]\n",
      " [0.79828618]\n",
      " [0.74989137]]\n",
      "1.152522554279337\n"
     ]
    },
    {
     "name": "stderr",
     "output_type": "stream",
     "text": [
      "current-loss: 1.000851:  16%|█████████▍                                                 | 8/50 [00:27<02:24,  3.45s/it]"
     ]
    },
    {
     "name": "stdout",
     "output_type": "stream",
     "text": [
      "prediction: \n",
      "\n",
      "[[0.]\n",
      " [0.]\n",
      " [0.]\n",
      " [0.]\n",
      " [0.]]\n",
      "target: \n",
      "\n",
      "[[0.94291067]\n",
      " [0.81470634]\n",
      " [0.78004082]\n",
      " [0.79828618]\n",
      " [0.74989137]]\n",
      "1.152522554279337\n"
     ]
    },
    {
     "name": "stderr",
     "output_type": "stream",
     "text": [
      "current-loss: 1.000751:  18%|██████████▌                                                | 9/50 [00:31<02:20,  3.44s/it]"
     ]
    },
    {
     "name": "stdout",
     "output_type": "stream",
     "text": [
      "prediction: \n",
      "\n",
      "[[0.]\n",
      " [0.]\n",
      " [0.]\n",
      " [0.]\n",
      " [0.]]\n",
      "target: \n",
      "\n",
      "[[0.94291067]\n",
      " [0.81470634]\n",
      " [0.78004082]\n",
      " [0.79828618]\n",
      " [0.74989137]]\n",
      "1.152522554279337\n"
     ]
    },
    {
     "name": "stderr",
     "output_type": "stream",
     "text": [
      "current-loss: 1.000858:  20%|███████████▌                                              | 10/50 [00:34<02:16,  3.41s/it]"
     ]
    },
    {
     "name": "stdout",
     "output_type": "stream",
     "text": [
      "prediction: \n",
      "\n",
      "[[0.]\n",
      " [0.]\n",
      " [0.]\n",
      " [0.]\n",
      " [0.]]\n",
      "target: \n",
      "\n",
      "[[0.94291067]\n",
      " [0.81470634]\n",
      " [0.78004082]\n",
      " [0.79828618]\n",
      " [0.74989137]]\n",
      "1.152522554279337\n"
     ]
    },
    {
     "name": "stderr",
     "output_type": "stream",
     "text": [
      "current-loss: 1.000788:  22%|████████████▊                                             | 11/50 [00:38<02:12,  3.39s/it]"
     ]
    },
    {
     "name": "stdout",
     "output_type": "stream",
     "text": [
      "prediction: \n",
      "\n",
      "[[0.]\n",
      " [0.]\n",
      " [0.]\n",
      " [0.]\n",
      " [0.]]\n",
      "target: \n",
      "\n",
      "[[0.94291067]\n",
      " [0.81470634]\n",
      " [0.78004082]\n",
      " [0.79828618]\n",
      " [0.74989137]]\n",
      "1.152522554279337\n"
     ]
    },
    {
     "name": "stderr",
     "output_type": "stream",
     "text": [
      "current-loss: 1.000774:  24%|█████████████▉                                            | 12/50 [00:41<02:08,  3.38s/it]"
     ]
    },
    {
     "name": "stdout",
     "output_type": "stream",
     "text": [
      "prediction: \n",
      "\n",
      "[[0.]\n",
      " [0.]\n",
      " [0.]\n",
      " [0.]\n",
      " [0.]]\n",
      "target: \n",
      "\n",
      "[[0.94291067]\n",
      " [0.81470634]\n",
      " [0.78004082]\n",
      " [0.79828618]\n",
      " [0.74989137]]\n",
      "1.152522554279337\n"
     ]
    },
    {
     "name": "stderr",
     "output_type": "stream",
     "text": [
      "current-loss: 1.000811:  26%|███████████████                                           | 13/50 [00:44<02:05,  3.39s/it]"
     ]
    },
    {
     "name": "stdout",
     "output_type": "stream",
     "text": [
      "prediction: \n",
      "\n",
      "[[0.]\n",
      " [0.]\n",
      " [0.]\n",
      " [0.]\n",
      " [0.]]\n",
      "target: \n",
      "\n",
      "[[0.94291067]\n",
      " [0.81470634]\n",
      " [0.78004082]\n",
      " [0.79828618]\n",
      " [0.74989137]]\n",
      "1.152522554279337\n"
     ]
    },
    {
     "name": "stderr",
     "output_type": "stream",
     "text": [
      "current-loss: 1.000803:  28%|████████████████▏                                         | 14/50 [00:48<02:02,  3.39s/it]"
     ]
    },
    {
     "name": "stdout",
     "output_type": "stream",
     "text": [
      "prediction: \n",
      "\n",
      "[[0.]\n",
      " [0.]\n",
      " [0.]\n",
      " [0.]\n",
      " [0.]]\n",
      "target: \n",
      "\n",
      "[[0.94291067]\n",
      " [0.81470634]\n",
      " [0.78004082]\n",
      " [0.79828618]\n",
      " [0.74989137]]\n",
      "1.152522554279337\n"
     ]
    },
    {
     "name": "stderr",
     "output_type": "stream",
     "text": [
      "current-loss: 1.000803:  30%|█████████████████▍                                        | 15/50 [00:51<01:58,  3.39s/it]"
     ]
    },
    {
     "name": "stdout",
     "output_type": "stream",
     "text": [
      "prediction: \n",
      "\n",
      "[[0.]\n",
      " [0.]\n",
      " [0.]\n",
      " [0.]\n",
      " [0.]]\n",
      "target: \n",
      "\n",
      "[[0.94291067]\n",
      " [0.81470634]\n",
      " [0.78004082]\n",
      " [0.79828618]\n",
      " [0.74989137]]\n",
      "1.152522554279337\n"
     ]
    },
    {
     "name": "stderr",
     "output_type": "stream",
     "text": [
      "current-loss: 1.000804:  32%|██████████████████▌                                       | 16/50 [00:54<01:54,  3.35s/it]"
     ]
    },
    {
     "name": "stdout",
     "output_type": "stream",
     "text": [
      "prediction: \n",
      "\n",
      "[[0.]\n",
      " [0.]\n",
      " [0.]\n",
      " [0.]\n",
      " [0.]]\n",
      "target: \n",
      "\n",
      "[[0.94291067]\n",
      " [0.81470634]\n",
      " [0.78004082]\n",
      " [0.79828618]\n",
      " [0.74989137]]\n",
      "1.152522554279337\n"
     ]
    },
    {
     "name": "stderr",
     "output_type": "stream",
     "text": [
      "current-loss: 1.000792:  34%|███████████████████▋                                      | 17/50 [00:58<01:50,  3.34s/it]"
     ]
    },
    {
     "name": "stdout",
     "output_type": "stream",
     "text": [
      "prediction: \n",
      "\n",
      "[[0.]\n",
      " [0.]\n",
      " [0.]\n",
      " [0.]\n",
      " [0.]]\n",
      "target: \n",
      "\n",
      "[[0.94291067]\n",
      " [0.81470634]\n",
      " [0.78004082]\n",
      " [0.79828618]\n",
      " [0.74989137]]\n",
      "1.1522441787400992\n"
     ]
    },
    {
     "name": "stderr",
     "output_type": "stream",
     "text": [
      "current-loss: 1.000692:  36%|████████████████████▉                                     | 18/50 [01:01<01:46,  3.34s/it]"
     ]
    },
    {
     "name": "stdout",
     "output_type": "stream",
     "text": [
      "prediction: \n",
      "\n",
      "[[0.]\n",
      " [0.]\n",
      " [0.]\n",
      " [0.]\n",
      " [0.]]\n",
      "target: \n",
      "\n",
      "[[0.94291067]\n",
      " [0.81470634]\n",
      " [0.78004082]\n",
      " [0.79828618]\n",
      " [0.74989137]]\n",
      "1.152522554279337\n"
     ]
    },
    {
     "name": "stderr",
     "output_type": "stream",
     "text": [
      "current-loss: 1.000785:  38%|██████████████████████                                    | 19/50 [01:04<01:43,  3.33s/it]"
     ]
    },
    {
     "name": "stdout",
     "output_type": "stream",
     "text": [
      "prediction: \n",
      "\n",
      "[[0.]\n",
      " [0.]\n",
      " [0.]\n",
      " [0.]\n",
      " [0.]]\n",
      "target: \n",
      "\n",
      "[[0.94291067]\n",
      " [0.81470634]\n",
      " [0.78004082]\n",
      " [0.79828618]\n",
      " [0.74989137]]\n",
      "1.151920432498222\n"
     ]
    },
    {
     "name": "stderr",
     "output_type": "stream",
     "text": [
      "current-loss: 1.000802:  40%|███████████████████████▏                                  | 20/50 [01:08<01:41,  3.37s/it]"
     ]
    },
    {
     "name": "stdout",
     "output_type": "stream",
     "text": [
      "prediction: \n",
      "\n",
      "[[0.]\n",
      " [0.]\n",
      " [0.]\n",
      " [0.]\n",
      " [0.]]\n",
      "target: \n",
      "\n",
      "[[0.94291067]\n",
      " [0.81470634]\n",
      " [0.78004082]\n",
      " [0.79828618]\n",
      " [0.74989137]]\n",
      "1.152522554279337\n"
     ]
    },
    {
     "name": "stderr",
     "output_type": "stream",
     "text": [
      "current-loss: 1.000763:  42%|████████████████████████▎                                 | 21/50 [01:11<01:37,  3.37s/it]"
     ]
    },
    {
     "name": "stdout",
     "output_type": "stream",
     "text": [
      "prediction: \n",
      "\n",
      "[[0.]\n",
      " [0.]\n",
      " [0.]\n",
      " [0.]\n",
      " [0.]]\n",
      "target: \n",
      "\n",
      "[[0.94291067]\n",
      " [0.81470634]\n",
      " [0.78004082]\n",
      " [0.79828618]\n",
      " [0.74989137]]\n",
      "1.152522554279337\n"
     ]
    },
    {
     "name": "stderr",
     "output_type": "stream",
     "text": [
      "current-loss: 1.000740:  44%|█████████████████████████▌                                | 22/50 [01:15<01:34,  3.37s/it]"
     ]
    },
    {
     "name": "stdout",
     "output_type": "stream",
     "text": [
      "prediction: \n",
      "\n",
      "[[0.]\n",
      " [0.]\n",
      " [0.]\n",
      " [0.]\n",
      " [0.]]\n",
      "target: \n",
      "\n",
      "[[0.94291067]\n",
      " [0.81470634]\n",
      " [0.78004082]\n",
      " [0.79828618]\n",
      " [0.74989137]]\n",
      "1.152522554279337\n"
     ]
    },
    {
     "name": "stderr",
     "output_type": "stream",
     "text": [
      "current-loss: 1.000894:  46%|██████████████████████████▋                               | 23/50 [01:18<01:31,  3.38s/it]"
     ]
    },
    {
     "name": "stdout",
     "output_type": "stream",
     "text": [
      "prediction: \n",
      "\n",
      "[[0.]\n",
      " [0.]\n",
      " [0.]\n",
      " [0.]\n",
      " [0.]]\n",
      "target: \n",
      "\n",
      "[[0.94291067]\n",
      " [0.81470634]\n",
      " [0.78004082]\n",
      " [0.79828618]\n",
      " [0.74989137]]\n",
      "1.152522554279337\n"
     ]
    },
    {
     "name": "stderr",
     "output_type": "stream",
     "text": [
      "current-loss: 1.000807:  48%|███████████████████████████▊                              | 24/50 [01:21<01:27,  3.38s/it]"
     ]
    },
    {
     "name": "stdout",
     "output_type": "stream",
     "text": [
      "prediction: \n",
      "\n",
      "[[0.]\n",
      " [0.]\n",
      " [0.]\n",
      " [0.]\n",
      " [0.]]\n",
      "target: \n",
      "\n",
      "[[0.94291067]\n",
      " [0.81470634]\n",
      " [0.78004082]\n",
      " [0.79828618]\n",
      " [0.74989137]]\n",
      "1.152522554279337\n"
     ]
    },
    {
     "name": "stderr",
     "output_type": "stream",
     "text": [
      "current-loss: 1.000803:  50%|█████████████████████████████                             | 25/50 [01:25<01:24,  3.38s/it]"
     ]
    },
    {
     "name": "stdout",
     "output_type": "stream",
     "text": [
      "prediction: \n",
      "\n",
      "[[0.]\n",
      " [0.]\n",
      " [0.]\n",
      " [0.]\n",
      " [0.]]\n",
      "target: \n",
      "\n",
      "[[0.94291067]\n",
      " [0.81470634]\n",
      " [0.78004082]\n",
      " [0.79828618]\n",
      " [0.74989137]]\n",
      "1.152522554279337\n"
     ]
    },
    {
     "name": "stderr",
     "output_type": "stream",
     "text": [
      "current-loss: 1.000804:  52%|██████████████████████████████▏                           | 26/50 [01:28<01:20,  3.37s/it]"
     ]
    },
    {
     "name": "stdout",
     "output_type": "stream",
     "text": [
      "prediction: \n",
      "\n",
      "[[0.]\n",
      " [0.]\n",
      " [0.]\n",
      " [0.]\n",
      " [0.]]\n",
      "target: \n",
      "\n",
      "[[0.94291067]\n",
      " [0.81470634]\n",
      " [0.78004082]\n",
      " [0.79828618]\n",
      " [0.74989137]]\n",
      "1.152522554279337\n"
     ]
    },
    {
     "name": "stderr",
     "output_type": "stream",
     "text": [
      "current-loss: 1.000804:  54%|███████████████████████████████▎                          | 27/50 [01:31<01:17,  3.35s/it]"
     ]
    },
    {
     "name": "stdout",
     "output_type": "stream",
     "text": [
      "prediction: \n",
      "\n",
      "[[0.]\n",
      " [0.]\n",
      " [0.]\n",
      " [0.]\n",
      " [0.]]\n",
      "target: \n",
      "\n",
      "[[0.94291067]\n",
      " [0.81470634]\n",
      " [0.78004082]\n",
      " [0.79828618]\n",
      " [0.74989137]]\n",
      "1.152522554279337\n"
     ]
    },
    {
     "name": "stderr",
     "output_type": "stream",
     "text": [
      "current-loss: 1.000804:  56%|████████████████████████████████▍                         | 28/50 [01:35<01:13,  3.36s/it]"
     ]
    },
    {
     "name": "stdout",
     "output_type": "stream",
     "text": [
      "prediction: \n",
      "\n",
      "[[0.]\n",
      " [0.]\n",
      " [0.]\n",
      " [0.]\n",
      " [0.]]\n",
      "target: \n",
      "\n",
      "[[0.94291067]\n",
      " [0.81470634]\n",
      " [0.78004082]\n",
      " [0.79828618]\n",
      " [0.74989137]]\n",
      "1.152522554279337\n"
     ]
    },
    {
     "name": "stderr",
     "output_type": "stream",
     "text": [
      "current-loss: 1.000794:  58%|█████████████████████████████████▋                        | 29/50 [01:38<01:10,  3.33s/it]"
     ]
    },
    {
     "name": "stdout",
     "output_type": "stream",
     "text": [
      "prediction: \n",
      "\n",
      "[[0.]\n",
      " [0.]\n",
      " [0.]\n",
      " [0.]\n",
      " [0.]]\n",
      "target: \n",
      "\n",
      "[[0.94291067]\n",
      " [0.81470634]\n",
      " [0.78004082]\n",
      " [0.79828618]\n",
      " [0.74989137]]\n",
      "1.152522554279337\n"
     ]
    },
    {
     "name": "stderr",
     "output_type": "stream",
     "text": [
      "current-loss: 1.000804:  60%|██████████████████████████████████▊                       | 30/50 [01:41<01:06,  3.34s/it]"
     ]
    },
    {
     "name": "stdout",
     "output_type": "stream",
     "text": [
      "prediction: \n",
      "\n",
      "[[0.]\n",
      " [0.]\n",
      " [0.]\n",
      " [0.]\n",
      " [0.]]\n",
      "target: \n",
      "\n",
      "[[0.94291067]\n",
      " [0.81470634]\n",
      " [0.78004082]\n",
      " [0.79828618]\n",
      " [0.74989137]]\n",
      "1.152522554279337\n"
     ]
    },
    {
     "name": "stderr",
     "output_type": "stream",
     "text": [
      "current-loss: 1.000817:  62%|███████████████████████████████████▉                      | 31/50 [01:45<01:03,  3.32s/it]"
     ]
    },
    {
     "name": "stdout",
     "output_type": "stream",
     "text": [
      "prediction: \n",
      "\n",
      "[[0.]\n",
      " [0.]\n",
      " [0.]\n",
      " [0.]\n",
      " [0.]]\n",
      "target: \n",
      "\n",
      "[[0.94291067]\n",
      " [0.81470634]\n",
      " [0.78004082]\n",
      " [0.79828618]\n",
      " [0.74989137]]\n",
      "1.152522554279337\n"
     ]
    },
    {
     "name": "stderr",
     "output_type": "stream",
     "text": [
      "current-loss: 1.000808:  64%|█████████████████████████████████████                     | 32/50 [01:48<00:59,  3.33s/it]"
     ]
    },
    {
     "name": "stdout",
     "output_type": "stream",
     "text": [
      "prediction: \n",
      "\n",
      "[[0.]\n",
      " [0.]\n",
      " [0.]\n",
      " [0.]\n",
      " [0.]]\n",
      "target: \n",
      "\n",
      "[[0.94291067]\n",
      " [0.81470634]\n",
      " [0.78004082]\n",
      " [0.79828618]\n",
      " [0.74989137]]\n",
      "1.152522554279337\n"
     ]
    },
    {
     "name": "stderr",
     "output_type": "stream",
     "text": [
      "current-loss: 1.000806:  66%|██████████████████████████████████████▎                   | 33/50 [01:51<00:56,  3.34s/it]"
     ]
    },
    {
     "name": "stdout",
     "output_type": "stream",
     "text": [
      "prediction: \n",
      "\n",
      "[[0.]\n",
      " [0.]\n",
      " [0.]\n",
      " [0.]\n",
      " [0.]]\n",
      "target: \n",
      "\n",
      "[[0.94291067]\n",
      " [0.81470634]\n",
      " [0.78004082]\n",
      " [0.79828618]\n",
      " [0.74989137]]\n",
      "1.152522554279337\n"
     ]
    },
    {
     "name": "stderr",
     "output_type": "stream",
     "text": [
      "current-loss: 1.000804:  68%|███████████████████████████████████████▍                  | 34/50 [01:55<00:53,  3.34s/it]"
     ]
    },
    {
     "name": "stdout",
     "output_type": "stream",
     "text": [
      "prediction: \n",
      "\n",
      "[[0.]\n",
      " [0.]\n",
      " [0.]\n",
      " [0.]\n",
      " [0.]]\n",
      "target: \n",
      "\n",
      "[[0.94291067]\n",
      " [0.81470634]\n",
      " [0.78004082]\n",
      " [0.79828618]\n",
      " [0.74989137]]\n",
      "1.152522554279337\n"
     ]
    },
    {
     "name": "stderr",
     "output_type": "stream",
     "text": [
      "current-loss: 1.000804:  70%|████████████████████████████████████████▌                 | 35/50 [01:58<00:50,  3.39s/it]"
     ]
    },
    {
     "name": "stdout",
     "output_type": "stream",
     "text": [
      "prediction: \n",
      "\n",
      "[[0.]\n",
      " [0.]\n",
      " [0.]\n",
      " [0.]\n",
      " [0.]]\n",
      "target: \n",
      "\n",
      "[[0.94291067]\n",
      " [0.81470634]\n",
      " [0.78004082]\n",
      " [0.79828618]\n",
      " [0.74989137]]\n",
      "1.152522554279337\n"
     ]
    },
    {
     "name": "stderr",
     "output_type": "stream",
     "text": [
      "current-loss: 1.000804:  72%|█████████████████████████████████████████▊                | 36/50 [02:02<00:47,  3.40s/it]"
     ]
    },
    {
     "name": "stdout",
     "output_type": "stream",
     "text": [
      "prediction: \n",
      "\n",
      "[[0.]\n",
      " [0.]\n",
      " [0.]\n",
      " [0.]\n",
      " [0.]]\n",
      "target: \n",
      "\n",
      "[[0.94291067]\n",
      " [0.81470634]\n",
      " [0.78004082]\n",
      " [0.79828618]\n",
      " [0.74989137]]\n",
      "1.152522554279337\n"
     ]
    },
    {
     "name": "stderr",
     "output_type": "stream",
     "text": [
      "current-loss: 1.000806:  74%|██████████████████████████████████████████▉               | 37/50 [02:05<00:44,  3.40s/it]"
     ]
    },
    {
     "name": "stdout",
     "output_type": "stream",
     "text": [
      "prediction: \n",
      "\n",
      "[[0.]\n",
      " [0.]\n",
      " [0.]\n",
      " [0.]\n",
      " [0.]]\n",
      "target: \n",
      "\n",
      "[[0.94291067]\n",
      " [0.81470634]\n",
      " [0.78004082]\n",
      " [0.79828618]\n",
      " [0.74989137]]\n",
      "1.152522554279337\n"
     ]
    },
    {
     "name": "stderr",
     "output_type": "stream",
     "text": [
      "current-loss: 1.000804:  76%|████████████████████████████████████████████              | 38/50 [02:08<00:40,  3.41s/it]"
     ]
    },
    {
     "name": "stdout",
     "output_type": "stream",
     "text": [
      "prediction: \n",
      "\n",
      "[[0.]\n",
      " [0.]\n",
      " [0.]\n",
      " [0.]\n",
      " [0.]]\n",
      "target: \n",
      "\n",
      "[[0.94291067]\n",
      " [0.81470634]\n",
      " [0.78004082]\n",
      " [0.79828618]\n",
      " [0.74989137]]\n",
      "1.152522554279337\n"
     ]
    },
    {
     "name": "stderr",
     "output_type": "stream",
     "text": [
      "current-loss: 1.000804:  78%|█████████████████████████████████████████████▏            | 39/50 [02:12<00:37,  3.40s/it]"
     ]
    },
    {
     "name": "stdout",
     "output_type": "stream",
     "text": [
      "prediction: \n",
      "\n",
      "[[0.]\n",
      " [0.]\n",
      " [0.]\n",
      " [0.]\n",
      " [0.]]\n",
      "target: \n",
      "\n",
      "[[0.94291067]\n",
      " [0.81470634]\n",
      " [0.78004082]\n",
      " [0.79828618]\n",
      " [0.74989137]]\n",
      "1.152522554279337\n"
     ]
    },
    {
     "name": "stderr",
     "output_type": "stream",
     "text": [
      "current-loss: 1.000809:  80%|██████████████████████████████████████████████▍           | 40/50 [02:15<00:34,  3.42s/it]"
     ]
    },
    {
     "name": "stdout",
     "output_type": "stream",
     "text": [
      "prediction: \n",
      "\n",
      "[[0.]\n",
      " [0.]\n",
      " [0.]\n",
      " [0.]\n",
      " [0.]]\n",
      "target: \n",
      "\n",
      "[[0.94291067]\n",
      " [0.81470634]\n",
      " [0.78004082]\n",
      " [0.79828618]\n",
      " [0.74989137]]\n",
      "1.152522554279337\n"
     ]
    },
    {
     "name": "stderr",
     "output_type": "stream",
     "text": [
      "current-loss: 1.000809:  82%|███████████████████████████████████████████████▌          | 41/50 [02:19<00:30,  3.41s/it]"
     ]
    },
    {
     "name": "stdout",
     "output_type": "stream",
     "text": [
      "prediction: \n",
      "\n",
      "[[0.]\n",
      " [0.]\n",
      " [0.]\n",
      " [0.]\n",
      " [0.]]\n",
      "target: \n",
      "\n",
      "[[0.94291067]\n",
      " [0.81470634]\n",
      " [0.78004082]\n",
      " [0.79828618]\n",
      " [0.74989137]]\n",
      "1.152522554279337\n"
     ]
    },
    {
     "name": "stderr",
     "output_type": "stream",
     "text": [
      "current-loss: 1.000793:  84%|████████████████████████████████████████████████▋         | 42/50 [02:22<00:27,  3.40s/it]"
     ]
    },
    {
     "name": "stdout",
     "output_type": "stream",
     "text": [
      "prediction: \n",
      "\n",
      "[[0.]\n",
      " [0.]\n",
      " [0.]\n",
      " [0.]\n",
      " [0.]]\n",
      "target: \n",
      "\n",
      "[[0.94291067]\n",
      " [0.81470634]\n",
      " [0.78004082]\n",
      " [0.79828618]\n",
      " [0.74989137]]\n",
      "1.152522554279337\n"
     ]
    },
    {
     "name": "stderr",
     "output_type": "stream",
     "text": [
      "current-loss: 1.000804:  86%|█████████████████████████████████████████████████▉        | 43/50 [02:25<00:23,  3.40s/it]"
     ]
    },
    {
     "name": "stdout",
     "output_type": "stream",
     "text": [
      "prediction: \n",
      "\n",
      "[[0.]\n",
      " [0.]\n",
      " [0.]\n",
      " [0.]\n",
      " [0.]]\n",
      "target: \n",
      "\n",
      "[[0.94291067]\n",
      " [0.81470634]\n",
      " [0.78004082]\n",
      " [0.79828618]\n",
      " [0.74989137]]\n",
      "1.152522554279337\n"
     ]
    },
    {
     "name": "stderr",
     "output_type": "stream",
     "text": [
      "current-loss: 1.000796:  88%|███████████████████████████████████████████████████       | 44/50 [02:29<00:20,  3.40s/it]"
     ]
    },
    {
     "name": "stdout",
     "output_type": "stream",
     "text": [
      "prediction: \n",
      "\n",
      "[[0.]\n",
      " [0.]\n",
      " [0.]\n",
      " [0.]\n",
      " [0.]]\n",
      "target: \n",
      "\n",
      "[[0.94291067]\n",
      " [0.81470634]\n",
      " [0.78004082]\n",
      " [0.79828618]\n",
      " [0.74989137]]\n",
      "1.152522554279337\n"
     ]
    },
    {
     "name": "stderr",
     "output_type": "stream",
     "text": [
      "current-loss: 1.000797:  90%|████████████████████████████████████████████████████▏     | 45/50 [02:32<00:17,  3.41s/it]"
     ]
    },
    {
     "name": "stdout",
     "output_type": "stream",
     "text": [
      "prediction: \n",
      "\n",
      "[[0.]\n",
      " [0.]\n",
      " [0.]\n",
      " [0.]\n",
      " [0.]]\n",
      "target: \n",
      "\n",
      "[[0.94291067]\n",
      " [0.81470634]\n",
      " [0.78004082]\n",
      " [0.79828618]\n",
      " [0.74989137]]\n",
      "1.152522554279337\n"
     ]
    },
    {
     "name": "stderr",
     "output_type": "stream",
     "text": [
      "current-loss: 1.000807:  92%|█████████████████████████████████████████████████████▎    | 46/50 [02:36<00:13,  3.41s/it]"
     ]
    },
    {
     "name": "stdout",
     "output_type": "stream",
     "text": [
      "prediction: \n",
      "\n",
      "[[0.]\n",
      " [0.]\n",
      " [0.]\n",
      " [0.]\n",
      " [0.]]\n",
      "target: \n",
      "\n",
      "[[0.94291067]\n",
      " [0.81470634]\n",
      " [0.78004082]\n",
      " [0.79828618]\n",
      " [0.74989137]]\n",
      "1.152522554279337\n"
     ]
    },
    {
     "name": "stderr",
     "output_type": "stream",
     "text": [
      "current-loss: 1.000804:  94%|██████████████████████████████████████████████████████▌   | 47/50 [02:39<00:10,  3.41s/it]"
     ]
    },
    {
     "name": "stdout",
     "output_type": "stream",
     "text": [
      "prediction: \n",
      "\n",
      "[[0.]\n",
      " [0.]\n",
      " [0.]\n",
      " [0.]\n",
      " [0.]]\n",
      "target: \n",
      "\n",
      "[[0.94291067]\n",
      " [0.81470634]\n",
      " [0.78004082]\n",
      " [0.79828618]\n",
      " [0.74989137]]\n",
      "1.152522554279337\n"
     ]
    },
    {
     "name": "stderr",
     "output_type": "stream",
     "text": [
      "current-loss: 1.000808:  96%|███████████████████████████████████████████████████████▋  | 48/50 [02:42<00:06,  3.41s/it]"
     ]
    },
    {
     "name": "stdout",
     "output_type": "stream",
     "text": [
      "prediction: \n",
      "\n",
      "[[0.]\n",
      " [0.]\n",
      " [0.]\n",
      " [0.]\n",
      " [0.]]\n",
      "target: \n",
      "\n",
      "[[0.94291067]\n",
      " [0.81470634]\n",
      " [0.78004082]\n",
      " [0.79828618]\n",
      " [0.74989137]]\n",
      "1.152522554279337\n"
     ]
    },
    {
     "name": "stderr",
     "output_type": "stream",
     "text": [
      "current-loss: 1.000804:  98%|████████████████████████████████████████████████████████▊ | 49/50 [02:46<00:03,  3.39s/it]"
     ]
    },
    {
     "name": "stdout",
     "output_type": "stream",
     "text": [
      "prediction: \n",
      "\n",
      "[[0.]\n",
      " [0.]\n",
      " [0.]\n",
      " [0.]\n",
      " [0.]]\n",
      "target: \n",
      "\n",
      "[[0.94291067]\n",
      " [0.81470634]\n",
      " [0.78004082]\n",
      " [0.79828618]\n",
      " [0.74989137]]\n",
      "1.152522554279337\n"
     ]
    },
    {
     "name": "stderr",
     "output_type": "stream",
     "text": [
      "current-loss: 1.000804: 100%|██████████████████████████████████████████████████████████| 50/50 [02:49<00:00,  3.40s/it]\n"
     ]
    }
   ],
   "source": [
    "\"\"\"\n",
    "    EdgyEncoder\n",
    "    Input size: [ADTV, DSEX]\n",
    "    Seq Len = day window\n",
    "    hidden_size: 256\n",
    "    num_layers: 124\n",
    "    output_size: 128\n",
    "    \n",
    "    EdgyDecoder\n",
    "    Input size: 128 (EdgyEncoder Output)\n",
    "    Seq Len = day window\n",
    "    hidden_size: 256\n",
    "    num_layers: 124\n",
    "    output_size: 1 (index of the next day)\n",
    "    \n",
    "\n",
    "\"\"\"\n",
    "\n",
    "import torch.optim as optim\n",
    "from torch.nn import MSELoss\n",
    "from tqdm import trange\n",
    "import matplotlib.pyplot as plt\n",
    "\n",
    "\n",
    "input_features = 2; # [ADTV, DSEX]\n",
    "input_features_decoder = 256\n",
    "seq_len = 5; # stock market open week\n",
    "batch_size = 28;\n",
    "hidden_size = 256;\n",
    "num_layers = 3;\n",
    "output_size = 1;\n",
    "\n",
    "# edgy_encoder = EdgyEncoder(input_features, seq_len, hidden_size, num_layers=num_layers)\n",
    "# edgy_decoder = EdgyDecoder(input_features_decoder, seq_len, hidden_size, num_layers=num_layers)\n",
    "# fcnet = FCNet(hidden_size, output_size)\n",
    "\n",
    "model = Edgy(input_features, hidden_size, hidden_size, output_size, num_layers=num_layers)\n",
    "\n",
    "\n",
    "edgy_optimizer = optim.Adam(model.parameters(), lr=0.001)\n",
    "\n",
    "criterion = nn.MSELoss();\n",
    "\n",
    "#ForwardPass\n",
    "dsex_loader = DataLoader(dsex_dataset, batch_size=batch_size, shuffle=False)\n",
    "\n",
    "\n",
    "dayofweek = [\"sunday\", \"monday\", \"tuesday\", \"wednesday\", \"thursday\"]\n",
    "\n",
    "epochs = 50\n",
    "t = trange(epochs, desc=\"current-loss\", leave=True)\n",
    "for epoch in t:\n",
    "    losses = 0;\n",
    "    n_batch = 0;\n",
    "    for i, data in enumerate(dsex_loader):\n",
    "        n_batch += 1\n",
    "        enc_x, dec_y, fc_y_date = data;\n",
    "        \n",
    "        current_batch_size = enc_x.shape[0]\n",
    "        \n",
    "\n",
    "        if i == 0:\n",
    "            test_pred = model(enc_x)\n",
    "            print(\"prediction: \\n\")\n",
    "            print(test_pred[0].detach().numpy())\n",
    "            print(\"target: \\n\")\n",
    "            target = dec_y\n",
    "            print(target[0].numpy())\n",
    "            \n",
    "            print(criterion(test_pred, target).item())\n",
    "            \n",
    "        \n",
    "        pred = model(enc_x)\n",
    "        \n",
    "        \n",
    "        edgy_optimizer.zero_grad()\n",
    "        \n",
    "        loss = criterion(pred.float(), dec_y.float())\n",
    "        losses += loss.item()\n",
    "        loss.backward()\n",
    "        \n",
    "        edgy_optimizer.step()\n",
    "    \n",
    "    epoch_loss = losses/n_batch\n",
    "    t.set_description(desc=\"current-loss: %f\" %epoch_loss)\n",
    "    losses = 0;\n",
    "    n_batch = 0;\n",
    "#     print(model.fcnet.fc2.weight[0].grad)\n",
    "        \n",
    "\n",
    "    \n",
    "    \n",
    "    "
   ]
  },
  {
   "cell_type": "code",
   "execution_count": 192,
   "metadata": {},
   "outputs": [
    {
     "name": "stdout",
     "output_type": "stream",
     "text": [
      "tensor([[0.4678],\n",
      "        [1.1061],\n",
      "        [1.1024],\n",
      "        [0.9786],\n",
      "        [0.9268]], grad_fn=<SelectBackward>)\n"
     ]
    }
   ],
   "source": [
    "print(pred[0])"
   ]
  },
  {
   "cell_type": "code",
   "execution_count": 159,
   "metadata": {},
   "outputs": [],
   "source": [
    "from keras.models import Sequential\n",
    "from keras.layers import Dense\n",
    "from keras.layers import LSTM\n",
    "from sklearn.model_selection import train_test_split"
   ]
  },
  {
   "cell_type": "code",
   "execution_count": 170,
   "metadata": {},
   "outputs": [
    {
     "name": "stdout",
     "output_type": "stream",
     "text": [
      "Model: \"sequential_17\"\n",
      "_________________________________________________________________\n",
      "Layer (type)                 Output Shape              Param #   \n",
      "=================================================================\n",
      "lstm_18 (LSTM)               (None, 5, 256)            265216    \n",
      "_________________________________________________________________\n",
      "lstm_19 (LSTM)               (None, 5, 256)            525312    \n",
      "_________________________________________________________________\n",
      "lstm_20 (LSTM)               (None, 256)               525312    \n",
      "_________________________________________________________________\n",
      "dense_14 (Dense)             (None, 1)                 257       \n",
      "=================================================================\n",
      "Total params: 1,316,097\n",
      "Trainable params: 1,316,097\n",
      "Non-trainable params: 0\n",
      "_________________________________________________________________\n",
      "None\n",
      "Epoch 1/600\n",
      "21/21 - 4s - loss: 0.2432\n",
      "Epoch 2/600\n",
      "21/21 - 1s - loss: 0.0341\n",
      "Epoch 3/600\n",
      "21/21 - 1s - loss: 0.0281\n",
      "Epoch 4/600\n",
      "21/21 - 1s - loss: 0.0246\n",
      "Epoch 5/600\n",
      "21/21 - 1s - loss: 0.0240\n",
      "Epoch 6/600\n",
      "21/21 - 1s - loss: 0.0240\n",
      "Epoch 7/600\n",
      "21/21 - 1s - loss: 0.0233\n",
      "Epoch 8/600\n",
      "21/21 - 1s - loss: 0.0250\n",
      "Epoch 9/600\n",
      "21/21 - 1s - loss: 0.0234\n",
      "Epoch 10/600\n",
      "21/21 - 1s - loss: 0.0237\n",
      "Epoch 11/600\n",
      "21/21 - 1s - loss: 0.0244\n",
      "Epoch 12/600\n",
      "21/21 - 1s - loss: 0.0235\n",
      "Epoch 13/600\n",
      "21/21 - 1s - loss: 0.0216\n",
      "Epoch 14/600\n",
      "21/21 - 1s - loss: 0.0370\n",
      "Epoch 15/600\n",
      "21/21 - 1s - loss: 0.0238\n",
      "Epoch 16/600\n",
      "21/21 - 1s - loss: 0.0215\n",
      "Epoch 17/600\n",
      "21/21 - 1s - loss: 0.0236\n",
      "Epoch 18/600\n",
      "21/21 - 1s - loss: 0.0223\n",
      "Epoch 19/600\n",
      "21/21 - 1s - loss: 0.0224\n",
      "Epoch 20/600\n",
      "21/21 - 1s - loss: 0.0210\n",
      "Epoch 21/600\n",
      "21/21 - 1s - loss: 0.0217\n",
      "Epoch 22/600\n",
      "21/21 - 1s - loss: 0.0216\n",
      "Epoch 23/600\n",
      "21/21 - 1s - loss: 0.0218\n",
      "Epoch 24/600\n",
      "21/21 - 1s - loss: 0.0224\n",
      "Epoch 25/600\n",
      "21/21 - 1s - loss: 0.0309\n",
      "Epoch 26/600\n",
      "21/21 - 1s - loss: 0.0213\n",
      "Epoch 27/600\n",
      "21/21 - 1s - loss: 0.0217\n",
      "Epoch 28/600\n",
      "21/21 - 1s - loss: 0.0186\n",
      "Epoch 29/600\n",
      "21/21 - 1s - loss: 0.0197\n",
      "Epoch 30/600\n",
      "21/21 - 1s - loss: 0.0399\n",
      "Epoch 31/600\n",
      "21/21 - 1s - loss: 0.0193\n",
      "Epoch 32/600\n",
      "21/21 - 1s - loss: 0.0219\n",
      "Epoch 33/600\n",
      "21/21 - 1s - loss: 0.0187\n",
      "Epoch 34/600\n",
      "21/21 - 1s - loss: 0.0171\n",
      "Epoch 35/600\n",
      "21/21 - 1s - loss: 0.0173\n",
      "Epoch 36/600\n",
      "21/21 - 1s - loss: 0.0163\n",
      "Epoch 37/600\n",
      "21/21 - 1s - loss: 0.0161\n",
      "Epoch 38/600\n",
      "21/21 - 1s - loss: 0.0159\n",
      "Epoch 39/600\n",
      "21/21 - 1s - loss: 0.0159\n",
      "Epoch 40/600\n",
      "21/21 - 1s - loss: 0.0164\n",
      "Epoch 41/600\n",
      "21/21 - 1s - loss: 0.0154\n",
      "Epoch 42/600\n",
      "21/21 - 1s - loss: 0.0152\n",
      "Epoch 43/600\n",
      "21/21 - 1s - loss: 0.0185\n",
      "Epoch 44/600\n",
      "21/21 - 1s - loss: 0.0149\n",
      "Epoch 45/600\n",
      "21/21 - 1s - loss: 0.0170\n",
      "Epoch 46/600\n",
      "21/21 - 1s - loss: 0.0203\n",
      "Epoch 47/600\n",
      "21/21 - 1s - loss: 0.0184\n",
      "Epoch 48/600\n",
      "21/21 - 1s - loss: 0.0146\n",
      "Epoch 49/600\n",
      "21/21 - 1s - loss: 0.0146\n",
      "Epoch 50/600\n",
      "21/21 - 1s - loss: 0.0149\n",
      "Epoch 51/600\n",
      "21/21 - 1s - loss: 0.0141\n",
      "Epoch 52/600\n",
      "21/21 - 1s - loss: 0.0147\n",
      "Epoch 53/600\n",
      "21/21 - 1s - loss: 0.0136\n",
      "Epoch 54/600\n",
      "21/21 - 1s - loss: 0.0136\n",
      "Epoch 55/600\n",
      "21/21 - 1s - loss: 0.0141\n",
      "Epoch 56/600\n",
      "21/21 - 1s - loss: 0.0140\n",
      "Epoch 57/600\n",
      "21/21 - 1s - loss: 0.0141\n",
      "Epoch 58/600\n",
      "21/21 - 1s - loss: 0.0144\n",
      "Epoch 59/600\n",
      "21/21 - 1s - loss: 0.0147\n",
      "Epoch 60/600\n",
      "21/21 - 1s - loss: 0.0161\n",
      "Epoch 61/600\n",
      "21/21 - 1s - loss: 0.0150\n",
      "Epoch 62/600\n",
      "21/21 - 1s - loss: 0.0132\n",
      "Epoch 63/600\n",
      "21/21 - 1s - loss: 0.0131\n",
      "Epoch 64/600\n",
      "21/21 - 1s - loss: 0.0135\n",
      "Epoch 65/600\n",
      "21/21 - 1s - loss: 0.0139\n",
      "Epoch 66/600\n",
      "21/21 - 1s - loss: 0.0129\n",
      "Epoch 67/600\n",
      "21/21 - 1s - loss: 0.0132\n",
      "Epoch 68/600\n",
      "21/21 - 1s - loss: 0.0135\n",
      "Epoch 69/600\n",
      "21/21 - 1s - loss: 0.0136\n",
      "Epoch 70/600\n",
      "21/21 - 1s - loss: 0.0138\n",
      "Epoch 71/600\n",
      "21/21 - 1s - loss: 0.0133\n",
      "Epoch 72/600\n",
      "21/21 - 1s - loss: 0.0136\n",
      "Epoch 73/600\n",
      "21/21 - 1s - loss: 0.0132\n",
      "Epoch 74/600\n",
      "21/21 - 1s - loss: 0.0145\n",
      "Epoch 75/600\n",
      "21/21 - 1s - loss: 0.0139\n",
      "Epoch 76/600\n",
      "21/21 - 1s - loss: 0.0142\n",
      "Epoch 77/600\n",
      "21/21 - 1s - loss: 0.0140\n",
      "Epoch 78/600\n",
      "21/21 - 1s - loss: 0.0137\n",
      "Epoch 79/600\n",
      "21/21 - 1s - loss: 0.0132\n",
      "Epoch 80/600\n",
      "21/21 - 1s - loss: 0.0129\n",
      "Epoch 81/600\n",
      "21/21 - 1s - loss: 0.0126\n",
      "Epoch 82/600\n"
     ]
    },
    {
     "ename": "KeyboardInterrupt",
     "evalue": "",
     "output_type": "error",
     "traceback": [
      "\u001b[1;31m---------------------------------------------------------------------------\u001b[0m",
      "\u001b[1;31mKeyboardInterrupt\u001b[0m                         Traceback (most recent call last)",
      "\u001b[1;32m<ipython-input-170-ca6fb1b55948>\u001b[0m in \u001b[0;36m<module>\u001b[1;34m\u001b[0m\n\u001b[0;32m     16\u001b[0m \u001b[0mprint\u001b[0m\u001b[1;33m(\u001b[0m\u001b[0mmodel\u001b[0m\u001b[1;33m.\u001b[0m\u001b[0msummary\u001b[0m\u001b[1;33m(\u001b[0m\u001b[1;33m)\u001b[0m\u001b[1;33m)\u001b[0m\u001b[1;33m\u001b[0m\u001b[1;33m\u001b[0m\u001b[0m\n\u001b[0;32m     17\u001b[0m \u001b[0mmodel\u001b[0m\u001b[1;33m.\u001b[0m\u001b[0mcompile\u001b[0m\u001b[1;33m(\u001b[0m\u001b[0mloss\u001b[0m\u001b[1;33m=\u001b[0m\u001b[1;34m'mean_squared_error'\u001b[0m\u001b[1;33m,\u001b[0m \u001b[0moptimizer\u001b[0m\u001b[1;33m=\u001b[0m\u001b[1;34m'adam'\u001b[0m\u001b[1;33m)\u001b[0m\u001b[1;33m\u001b[0m\u001b[1;33m\u001b[0m\u001b[0m\n\u001b[1;32m---> 18\u001b[1;33m \u001b[0mmodel\u001b[0m\u001b[1;33m.\u001b[0m\u001b[0mfit\u001b[0m\u001b[1;33m(\u001b[0m\u001b[0mtrain_x\u001b[0m\u001b[1;33m,\u001b[0m \u001b[0mtrain_y\u001b[0m\u001b[1;33m,\u001b[0m \u001b[0mepochs\u001b[0m\u001b[1;33m=\u001b[0m\u001b[1;36m600\u001b[0m\u001b[1;33m,\u001b[0m \u001b[0mbatch_size\u001b[0m\u001b[1;33m=\u001b[0m\u001b[1;36m64\u001b[0m\u001b[1;33m,\u001b[0m \u001b[0mverbose\u001b[0m\u001b[1;33m=\u001b[0m\u001b[1;36m2\u001b[0m\u001b[1;33m)\u001b[0m\u001b[1;33m\u001b[0m\u001b[1;33m\u001b[0m\u001b[0m\n\u001b[0m",
      "\u001b[1;32m~\\anaconda3\\lib\\site-packages\\tensorflow\\python\\keras\\engine\\training.py\u001b[0m in \u001b[0;36mfit\u001b[1;34m(self, x, y, batch_size, epochs, verbose, callbacks, validation_split, validation_data, shuffle, class_weight, sample_weight, initial_epoch, steps_per_epoch, validation_steps, validation_batch_size, validation_freq, max_queue_size, workers, use_multiprocessing)\u001b[0m\n\u001b[0;32m   1098\u001b[0m                 _r=1):\n\u001b[0;32m   1099\u001b[0m               \u001b[0mcallbacks\u001b[0m\u001b[1;33m.\u001b[0m\u001b[0mon_train_batch_begin\u001b[0m\u001b[1;33m(\u001b[0m\u001b[0mstep\u001b[0m\u001b[1;33m)\u001b[0m\u001b[1;33m\u001b[0m\u001b[1;33m\u001b[0m\u001b[0m\n\u001b[1;32m-> 1100\u001b[1;33m               \u001b[0mtmp_logs\u001b[0m \u001b[1;33m=\u001b[0m \u001b[0mself\u001b[0m\u001b[1;33m.\u001b[0m\u001b[0mtrain_function\u001b[0m\u001b[1;33m(\u001b[0m\u001b[0miterator\u001b[0m\u001b[1;33m)\u001b[0m\u001b[1;33m\u001b[0m\u001b[1;33m\u001b[0m\u001b[0m\n\u001b[0m\u001b[0;32m   1101\u001b[0m               \u001b[1;32mif\u001b[0m \u001b[0mdata_handler\u001b[0m\u001b[1;33m.\u001b[0m\u001b[0mshould_sync\u001b[0m\u001b[1;33m:\u001b[0m\u001b[1;33m\u001b[0m\u001b[1;33m\u001b[0m\u001b[0m\n\u001b[0;32m   1102\u001b[0m                 \u001b[0mcontext\u001b[0m\u001b[1;33m.\u001b[0m\u001b[0masync_wait\u001b[0m\u001b[1;33m(\u001b[0m\u001b[1;33m)\u001b[0m\u001b[1;33m\u001b[0m\u001b[1;33m\u001b[0m\u001b[0m\n",
      "\u001b[1;32m~\\anaconda3\\lib\\site-packages\\tensorflow\\python\\eager\\def_function.py\u001b[0m in \u001b[0;36m__call__\u001b[1;34m(self, *args, **kwds)\u001b[0m\n\u001b[0;32m    826\u001b[0m     \u001b[0mtracing_count\u001b[0m \u001b[1;33m=\u001b[0m \u001b[0mself\u001b[0m\u001b[1;33m.\u001b[0m\u001b[0mexperimental_get_tracing_count\u001b[0m\u001b[1;33m(\u001b[0m\u001b[1;33m)\u001b[0m\u001b[1;33m\u001b[0m\u001b[1;33m\u001b[0m\u001b[0m\n\u001b[0;32m    827\u001b[0m     \u001b[1;32mwith\u001b[0m \u001b[0mtrace\u001b[0m\u001b[1;33m.\u001b[0m\u001b[0mTrace\u001b[0m\u001b[1;33m(\u001b[0m\u001b[0mself\u001b[0m\u001b[1;33m.\u001b[0m\u001b[0m_name\u001b[0m\u001b[1;33m)\u001b[0m \u001b[1;32mas\u001b[0m \u001b[0mtm\u001b[0m\u001b[1;33m:\u001b[0m\u001b[1;33m\u001b[0m\u001b[1;33m\u001b[0m\u001b[0m\n\u001b[1;32m--> 828\u001b[1;33m       \u001b[0mresult\u001b[0m \u001b[1;33m=\u001b[0m \u001b[0mself\u001b[0m\u001b[1;33m.\u001b[0m\u001b[0m_call\u001b[0m\u001b[1;33m(\u001b[0m\u001b[1;33m*\u001b[0m\u001b[0margs\u001b[0m\u001b[1;33m,\u001b[0m \u001b[1;33m**\u001b[0m\u001b[0mkwds\u001b[0m\u001b[1;33m)\u001b[0m\u001b[1;33m\u001b[0m\u001b[1;33m\u001b[0m\u001b[0m\n\u001b[0m\u001b[0;32m    829\u001b[0m       \u001b[0mcompiler\u001b[0m \u001b[1;33m=\u001b[0m \u001b[1;34m\"xla\"\u001b[0m \u001b[1;32mif\u001b[0m \u001b[0mself\u001b[0m\u001b[1;33m.\u001b[0m\u001b[0m_experimental_compile\u001b[0m \u001b[1;32melse\u001b[0m \u001b[1;34m\"nonXla\"\u001b[0m\u001b[1;33m\u001b[0m\u001b[1;33m\u001b[0m\u001b[0m\n\u001b[0;32m    830\u001b[0m       \u001b[0mnew_tracing_count\u001b[0m \u001b[1;33m=\u001b[0m \u001b[0mself\u001b[0m\u001b[1;33m.\u001b[0m\u001b[0mexperimental_get_tracing_count\u001b[0m\u001b[1;33m(\u001b[0m\u001b[1;33m)\u001b[0m\u001b[1;33m\u001b[0m\u001b[1;33m\u001b[0m\u001b[0m\n",
      "\u001b[1;32m~\\anaconda3\\lib\\site-packages\\tensorflow\\python\\eager\\def_function.py\u001b[0m in \u001b[0;36m_call\u001b[1;34m(self, *args, **kwds)\u001b[0m\n\u001b[0;32m    853\u001b[0m       \u001b[1;31m# In this case we have created variables on the first call, so we run the\u001b[0m\u001b[1;33m\u001b[0m\u001b[1;33m\u001b[0m\u001b[1;33m\u001b[0m\u001b[0m\n\u001b[0;32m    854\u001b[0m       \u001b[1;31m# defunned version which is guaranteed to never create variables.\u001b[0m\u001b[1;33m\u001b[0m\u001b[1;33m\u001b[0m\u001b[1;33m\u001b[0m\u001b[0m\n\u001b[1;32m--> 855\u001b[1;33m       \u001b[1;32mreturn\u001b[0m \u001b[0mself\u001b[0m\u001b[1;33m.\u001b[0m\u001b[0m_stateless_fn\u001b[0m\u001b[1;33m(\u001b[0m\u001b[1;33m*\u001b[0m\u001b[0margs\u001b[0m\u001b[1;33m,\u001b[0m \u001b[1;33m**\u001b[0m\u001b[0mkwds\u001b[0m\u001b[1;33m)\u001b[0m  \u001b[1;31m# pylint: disable=not-callable\u001b[0m\u001b[1;33m\u001b[0m\u001b[1;33m\u001b[0m\u001b[0m\n\u001b[0m\u001b[0;32m    856\u001b[0m     \u001b[1;32melif\u001b[0m \u001b[0mself\u001b[0m\u001b[1;33m.\u001b[0m\u001b[0m_stateful_fn\u001b[0m \u001b[1;32mis\u001b[0m \u001b[1;32mnot\u001b[0m \u001b[1;32mNone\u001b[0m\u001b[1;33m:\u001b[0m\u001b[1;33m\u001b[0m\u001b[1;33m\u001b[0m\u001b[0m\n\u001b[0;32m    857\u001b[0m       \u001b[1;31m# Release the lock early so that multiple threads can perform the call\u001b[0m\u001b[1;33m\u001b[0m\u001b[1;33m\u001b[0m\u001b[1;33m\u001b[0m\u001b[0m\n",
      "\u001b[1;32m~\\anaconda3\\lib\\site-packages\\tensorflow\\python\\eager\\function.py\u001b[0m in \u001b[0;36m__call__\u001b[1;34m(self, *args, **kwargs)\u001b[0m\n\u001b[0;32m   2940\u001b[0m       (graph_function,\n\u001b[0;32m   2941\u001b[0m        filtered_flat_args) = self._maybe_define_function(args, kwargs)\n\u001b[1;32m-> 2942\u001b[1;33m     return graph_function._call_flat(\n\u001b[0m\u001b[0;32m   2943\u001b[0m         filtered_flat_args, captured_inputs=graph_function.captured_inputs)  # pylint: disable=protected-access\n\u001b[0;32m   2944\u001b[0m \u001b[1;33m\u001b[0m\u001b[0m\n",
      "\u001b[1;32m~\\anaconda3\\lib\\site-packages\\tensorflow\\python\\eager\\function.py\u001b[0m in \u001b[0;36m_call_flat\u001b[1;34m(self, args, captured_inputs, cancellation_manager)\u001b[0m\n\u001b[0;32m   1916\u001b[0m         and executing_eagerly):\n\u001b[0;32m   1917\u001b[0m       \u001b[1;31m# No tape is watching; skip to running the function.\u001b[0m\u001b[1;33m\u001b[0m\u001b[1;33m\u001b[0m\u001b[1;33m\u001b[0m\u001b[0m\n\u001b[1;32m-> 1918\u001b[1;33m       return self._build_call_outputs(self._inference_function.call(\n\u001b[0m\u001b[0;32m   1919\u001b[0m           ctx, args, cancellation_manager=cancellation_manager))\n\u001b[0;32m   1920\u001b[0m     forward_backward = self._select_forward_and_backward_functions(\n",
      "\u001b[1;32m~\\anaconda3\\lib\\site-packages\\tensorflow\\python\\eager\\function.py\u001b[0m in \u001b[0;36mcall\u001b[1;34m(self, ctx, args, cancellation_manager)\u001b[0m\n\u001b[0;32m    553\u001b[0m       \u001b[1;32mwith\u001b[0m \u001b[0m_InterpolateFunctionError\u001b[0m\u001b[1;33m(\u001b[0m\u001b[0mself\u001b[0m\u001b[1;33m)\u001b[0m\u001b[1;33m:\u001b[0m\u001b[1;33m\u001b[0m\u001b[1;33m\u001b[0m\u001b[0m\n\u001b[0;32m    554\u001b[0m         \u001b[1;32mif\u001b[0m \u001b[0mcancellation_manager\u001b[0m \u001b[1;32mis\u001b[0m \u001b[1;32mNone\u001b[0m\u001b[1;33m:\u001b[0m\u001b[1;33m\u001b[0m\u001b[1;33m\u001b[0m\u001b[0m\n\u001b[1;32m--> 555\u001b[1;33m           outputs = execute.execute(\n\u001b[0m\u001b[0;32m    556\u001b[0m               \u001b[0mstr\u001b[0m\u001b[1;33m(\u001b[0m\u001b[0mself\u001b[0m\u001b[1;33m.\u001b[0m\u001b[0msignature\u001b[0m\u001b[1;33m.\u001b[0m\u001b[0mname\u001b[0m\u001b[1;33m)\u001b[0m\u001b[1;33m,\u001b[0m\u001b[1;33m\u001b[0m\u001b[1;33m\u001b[0m\u001b[0m\n\u001b[0;32m    557\u001b[0m               \u001b[0mnum_outputs\u001b[0m\u001b[1;33m=\u001b[0m\u001b[0mself\u001b[0m\u001b[1;33m.\u001b[0m\u001b[0m_num_outputs\u001b[0m\u001b[1;33m,\u001b[0m\u001b[1;33m\u001b[0m\u001b[1;33m\u001b[0m\u001b[0m\n",
      "\u001b[1;32m~\\anaconda3\\lib\\site-packages\\tensorflow\\python\\eager\\execute.py\u001b[0m in \u001b[0;36mquick_execute\u001b[1;34m(op_name, num_outputs, inputs, attrs, ctx, name)\u001b[0m\n\u001b[0;32m     57\u001b[0m   \u001b[1;32mtry\u001b[0m\u001b[1;33m:\u001b[0m\u001b[1;33m\u001b[0m\u001b[1;33m\u001b[0m\u001b[0m\n\u001b[0;32m     58\u001b[0m     \u001b[0mctx\u001b[0m\u001b[1;33m.\u001b[0m\u001b[0mensure_initialized\u001b[0m\u001b[1;33m(\u001b[0m\u001b[1;33m)\u001b[0m\u001b[1;33m\u001b[0m\u001b[1;33m\u001b[0m\u001b[0m\n\u001b[1;32m---> 59\u001b[1;33m     tensors = pywrap_tfe.TFE_Py_Execute(ctx._handle, device_name, op_name,\n\u001b[0m\u001b[0;32m     60\u001b[0m                                         inputs, attrs, num_outputs)\n\u001b[0;32m     61\u001b[0m   \u001b[1;32mexcept\u001b[0m \u001b[0mcore\u001b[0m\u001b[1;33m.\u001b[0m\u001b[0m_NotOkStatusException\u001b[0m \u001b[1;32mas\u001b[0m \u001b[0me\u001b[0m\u001b[1;33m:\u001b[0m\u001b[1;33m\u001b[0m\u001b[1;33m\u001b[0m\u001b[0m\n",
      "\u001b[1;31mKeyboardInterrupt\u001b[0m: "
     ]
    }
   ],
   "source": [
    "x,y,y_date = next(iter(DataLoader(dsex_dataset, batch_size=len(dsex_dataset), shuffle=False)))\n",
    "\n",
    "x, y = x.numpy(), y.numpy()\n",
    "\n",
    "\n",
    "train_x, test_x, train_y, test_y = train_test_split(x, y, test_size=0.33) \n",
    "\n",
    "\n",
    "\n",
    "\n",
    "model = Sequential()\n",
    "model.add(LSTM(256, input_shape=(5, 2), return_sequences=True))\n",
    "model.add(LSTM(256, input_shape=(5, 256), return_sequences=True))\n",
    "model.add(LSTM(256, input_shape=(5, 256)))\n",
    "model.add(Dense(1))\n",
    "print(model.summary())\n",
    "model.compile(loss='mean_squared_error', optimizer='adam')\n",
    "model.fit(train_x, train_y, epochs=600, batch_size=64, verbose=2)"
   ]
  },
  {
   "cell_type": "code",
   "execution_count": 167,
   "metadata": {},
   "outputs": [
    {
     "name": "stdout",
     "output_type": "stream",
     "text": [
      "KerasTensor(type_spec=TensorSpec(shape=(None, 1), dtype=tf.float32, name=None), name='dense_13/BiasAdd:0', description=\"created by layer 'dense_13'\")\n"
     ]
    },
    {
     "data": {
      "text/plain": [
       "0.013094279915094376"
      ]
     },
     "execution_count": 167,
     "metadata": {},
     "output_type": "execute_result"
    }
   ],
   "source": []
  },
  {
   "cell_type": "code",
   "execution_count": null,
   "metadata": {},
   "outputs": [],
   "source": []
  }
 ],
 "metadata": {
  "kernelspec": {
   "display_name": "Python 3",
   "language": "python",
   "name": "python3"
  },
  "language_info": {
   "codemirror_mode": {
    "name": "ipython",
    "version": 3
   },
   "file_extension": ".py",
   "mimetype": "text/x-python",
   "name": "python",
   "nbconvert_exporter": "python",
   "pygments_lexer": "ipython3",
   "version": "3.8.5"
  }
 },
 "nbformat": 4,
 "nbformat_minor": 4
}
